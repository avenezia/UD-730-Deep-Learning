{
 "cells": [
  {
   "cell_type": "markdown",
   "metadata": {
    "colab_type": "text",
    "id": "kR-4eNdK6lYS"
   },
   "source": [
    "Deep Learning\n",
    "=============\n",
    "\n",
    "Assignment 3\n",
    "------------\n",
    "\n",
    "Previously in `2_fullyconnected.ipynb`, you trained a logistic regression and a neural network model.\n",
    "\n",
    "The goal of this assignment is to explore regularization techniques."
   ]
  },
  {
   "cell_type": "code",
   "execution_count": 1,
   "metadata": {
    "cellView": "both",
    "colab": {
     "autoexec": {
      "startup": false,
      "wait_interval": 0
     }
    },
    "colab_type": "code",
    "collapsed": true,
    "id": "JLpLa8Jt7Vu4"
   },
   "outputs": [],
   "source": [
    "# These are all the modules we'll be using later. Make sure you can import them\n",
    "# before proceeding further.\n",
    "from __future__ import print_function\n",
    "import numpy as np\n",
    "import tensorflow as tf\n",
    "from six.moves import cPickle as pickle"
   ]
  },
  {
   "cell_type": "markdown",
   "metadata": {
    "colab_type": "text",
    "id": "1HrCK6e17WzV"
   },
   "source": [
    "First reload the data we generated in _notmist.ipynb_."
   ]
  },
  {
   "cell_type": "code",
   "execution_count": 2,
   "metadata": {
    "cellView": "both",
    "colab": {
     "autoexec": {
      "startup": false,
      "wait_interval": 0
     },
     "output_extras": [
      {
       "item_id": 1
      }
     ]
    },
    "colab_type": "code",
    "collapsed": false,
    "executionInfo": {
     "elapsed": 11777,
     "status": "ok",
     "timestamp": 1449849322348,
     "user": {
      "color": "",
      "displayName": "",
      "isAnonymous": false,
      "isMe": true,
      "permissionId": "",
      "photoUrl": "",
      "sessionId": "0",
      "userId": ""
     },
     "user_tz": 480
    },
    "id": "y3-cj1bpmuxc",
    "outputId": "e03576f1-ebbe-4838-c388-f1777bcc9873"
   },
   "outputs": [
    {
     "name": "stdout",
     "output_type": "stream",
     "text": [
      "Training set (200000, 28, 28) (200000,)\n",
      "Validation set (10000, 28, 28) (10000,)\n",
      "Test set (10000, 28, 28) (10000,)\n"
     ]
    }
   ],
   "source": [
    "pickle_file = 'notMNIST.pickle'\n",
    "\n",
    "with open(pickle_file, 'rb') as f:\n",
    "  save = pickle.load(f)\n",
    "  train_dataset = save['train_dataset']\n",
    "  train_labels = save['train_labels']\n",
    "  valid_dataset = save['valid_dataset']\n",
    "  valid_labels = save['valid_labels']\n",
    "  test_dataset = save['test_dataset']\n",
    "  test_labels = save['test_labels']\n",
    "  del save  # hint to help gc free up memory\n",
    "  print('Training set', train_dataset.shape, train_labels.shape)\n",
    "  print('Validation set', valid_dataset.shape, valid_labels.shape)\n",
    "  print('Test set', test_dataset.shape, test_labels.shape)"
   ]
  },
  {
   "cell_type": "markdown",
   "metadata": {
    "colab_type": "text",
    "id": "L7aHrm6nGDMB"
   },
   "source": [
    "Reformat into a shape that's more adapted to the models we're going to train:\n",
    "- data as a flat matrix,\n",
    "- labels as float 1-hot encodings."
   ]
  },
  {
   "cell_type": "code",
   "execution_count": 3,
   "metadata": {
    "cellView": "both",
    "colab": {
     "autoexec": {
      "startup": false,
      "wait_interval": 0
     },
     "output_extras": [
      {
       "item_id": 1
      }
     ]
    },
    "colab_type": "code",
    "collapsed": false,
    "executionInfo": {
     "elapsed": 11728,
     "status": "ok",
     "timestamp": 1449849322356,
     "user": {
      "color": "",
      "displayName": "",
      "isAnonymous": false,
      "isMe": true,
      "permissionId": "",
      "photoUrl": "",
      "sessionId": "0",
      "userId": ""
     },
     "user_tz": 480
    },
    "id": "IRSyYiIIGIzS",
    "outputId": "3f8996ee-3574-4f44-c953-5c8a04636582"
   },
   "outputs": [
    {
     "name": "stdout",
     "output_type": "stream",
     "text": [
      "Training set (200000, 784) (200000, 10)\n",
      "Validation set (10000, 784) (10000, 10)\n",
      "Test set (10000, 784) (10000, 10)\n"
     ]
    }
   ],
   "source": [
    "image_size = 28\n",
    "num_labels = 10\n",
    "\n",
    "def reformat(dataset, labels):\n",
    "  dataset = dataset.reshape((-1, image_size * image_size)).astype(np.float32)\n",
    "  # Map 1 to [0.0, 1.0, 0.0 ...], 2 to [0.0, 0.0, 1.0 ...]\n",
    "  labels = (np.arange(num_labels) == labels[:,None]).astype(np.float32)\n",
    "  return dataset, labels\n",
    "train_dataset, train_labels = reformat(train_dataset, train_labels)\n",
    "valid_dataset, valid_labels = reformat(valid_dataset, valid_labels)\n",
    "test_dataset, test_labels = reformat(test_dataset, test_labels)\n",
    "print('Training set', train_dataset.shape, train_labels.shape)\n",
    "print('Validation set', valid_dataset.shape, valid_labels.shape)\n",
    "print('Test set', test_dataset.shape, test_labels.shape)"
   ]
  },
  {
   "cell_type": "code",
   "execution_count": 4,
   "metadata": {
    "cellView": "both",
    "colab": {
     "autoexec": {
      "startup": false,
      "wait_interval": 0
     }
    },
    "colab_type": "code",
    "collapsed": true,
    "id": "RajPLaL_ZW6w"
   },
   "outputs": [],
   "source": [
    "def accuracy(predictions, labels):\n",
    "  return (100.0 * np.sum(np.argmax(predictions, 1) == np.argmax(labels, 1))\n",
    "          / predictions.shape[0])"
   ]
  },
  {
   "cell_type": "markdown",
   "metadata": {
    "colab_type": "text",
    "id": "sgLbUAQ1CW-1"
   },
   "source": [
    "---\n",
    "Problem 1\n",
    "---------\n",
    "\n",
    "Introduce and tune L2 regularization for both logistic and neural network models. Remember that L2 amounts to adding a penalty on the norm of the weights to the loss. In TensorFlow, you can compute the L2 loss for a tensor `t` using `nn.l2_loss(t)`. The right amount of regularization should improve your validation / test accuracy.\n",
    "\n",
    "---"
   ]
  },
  {
   "cell_type": "code",
   "execution_count": 19,
   "metadata": {
    "collapsed": true
   },
   "outputs": [],
   "source": [
    "# Logistic model with regularization.\n",
    "\n",
    "batch_size = 128\n",
    "beta = 0.001\n",
    "\n",
    "graph = tf.Graph()\n",
    "with graph.as_default():\n",
    "\n",
    "  # Input data. For the training data, we use a placeholder that will be fed\n",
    "  # at run time with a training minibatch.\n",
    "  tf_train_dataset = tf.placeholder(tf.float32,\n",
    "                                    shape=(batch_size, image_size * image_size))\n",
    "  tf_train_labels = tf.placeholder(tf.float32, shape=(batch_size, num_labels))\n",
    "  tf_valid_dataset = tf.constant(valid_dataset)\n",
    "  tf_test_dataset = tf.constant(test_dataset)\n",
    "  \n",
    "  # Variables.\n",
    "  weights = tf.Variable(\n",
    "    tf.truncated_normal([image_size * image_size, num_labels]))\n",
    "  biases = tf.Variable(tf.zeros([num_labels]))\n",
    "  \n",
    "  logits = tf.matmul(tf_train_dataset, weights) + biases \n",
    "  # Added the regularization term for the weights.\n",
    "  loss = tf.reduce_mean(\n",
    "    tf.nn.softmax_cross_entropy_with_logits(logits, tf_train_labels)) + beta * tf.nn.l2_loss(weights)\n",
    "  \n",
    "  # Optimizer.\n",
    "  optimizer = tf.train.GradientDescentOptimizer(0.5).minimize(loss)\n",
    "  \n",
    "  # Predictions for the training, validation, and test data.\n",
    "  train_prediction = tf.nn.softmax(logits)\n",
    "  valid_prediction = tf.nn.softmax(\n",
    "    tf.matmul(tf_valid_dataset, weights) + biases)\n",
    "  test_prediction = tf.nn.softmax(tf.matmul(tf_test_dataset, weights) + biases)"
   ]
  },
  {
   "cell_type": "code",
   "execution_count": 20,
   "metadata": {
    "collapsed": false
   },
   "outputs": [
    {
     "name": "stdout",
     "output_type": "stream",
     "text": [
      "Initialized\n",
      "Minibatch loss at step 0: 19.109901\n",
      "Minibatch accuracy: 8.6%\n",
      "Validation accuracy: 11.7%\n",
      "Minibatch loss at step 500: 2.692250\n",
      "Minibatch accuracy: 78.1%\n",
      "Validation accuracy: 75.8%\n",
      "Minibatch loss at step 1000: 1.405148\n",
      "Minibatch accuracy: 83.6%\n",
      "Validation accuracy: 78.7%\n",
      "Minibatch loss at step 1500: 1.064222\n",
      "Minibatch accuracy: 84.4%\n",
      "Validation accuracy: 79.7%\n",
      "Minibatch loss at step 2000: 1.074557\n",
      "Minibatch accuracy: 76.6%\n",
      "Validation accuracy: 80.9%\n",
      "Minibatch loss at step 2500: 0.738645\n",
      "Minibatch accuracy: 83.6%\n",
      "Validation accuracy: 80.8%\n",
      "Minibatch loss at step 3000: 0.830142\n",
      "Minibatch accuracy: 78.1%\n",
      "Validation accuracy: 82.0%\n",
      "Test accuracy: 88.7%\n"
     ]
    }
   ],
   "source": [
    "# Executing the logistic model with regularization.\n",
    "num_steps = 3001\n",
    "\n",
    "with tf.Session(graph=graph) as session:\n",
    "  tf.initialize_all_variables().run()\n",
    "  print(\"Initialized\")\n",
    "  for step in range(num_steps):\n",
    "    # Pick an offset within the training data, which has been randomized.\n",
    "    # Note: we could use better randomization across epochs.\n",
    "    offset = (step * batch_size) % (train_labels.shape[0] - batch_size)\n",
    "    # Generate a minibatch.\n",
    "    batch_data = train_dataset[offset:(offset + batch_size), :]\n",
    "    batch_labels = train_labels[offset:(offset + batch_size), :]\n",
    "    # Prepare a dictionary telling the session where to feed the minibatch.\n",
    "    # The key of the dictionary is the placeholder node of the graph to be fed,\n",
    "    # and the value is the numpy array to feed to it.\n",
    "    feed_dict = {tf_train_dataset : batch_data, tf_train_labels : batch_labels}\n",
    "    _, l, predictions = session.run(\n",
    "      [optimizer, loss, train_prediction], feed_dict=feed_dict)\n",
    "    if (step % 500 == 0):\n",
    "      print(\"Minibatch loss at step %d: %f\" % (step, l))\n",
    "      print(\"Minibatch accuracy: %.1f%%\" % accuracy(predictions, batch_labels))\n",
    "      print(\"Validation accuracy: %.1f%%\" % accuracy(\n",
    "        valid_prediction.eval(), valid_labels))\n",
    "  print(\"Test accuracy: %.1f%%\" % accuracy(test_prediction.eval(), test_labels))"
   ]
  },
  {
   "cell_type": "code",
   "execution_count": 22,
   "metadata": {
    "collapsed": false
   },
   "outputs": [],
   "source": [
    "# Neural model with regularization.\n",
    "batch_size = 128\n",
    "hidden_nodes = 1024\n",
    "beta = 0.001\n",
    "\n",
    "# neural network with 2 layers\n",
    "#\n",
    "# · · · ·          (input data, flattened pixels)       X [batch, 784]   # 784 = 28*28\n",
    "# \\x\\x/         -- fully connected layer (relu)         W1 [784, 1024]      B1[1024]\n",
    "#  \\x/          -- fully connected layer (softmax)      W2 [1024, 10]       B2[10]\n",
    "#   ·                                                   Y2 [batch, 10]\n",
    "\n",
    "graph = tf.Graph()\n",
    "with graph.as_default():\n",
    "\n",
    "  # Input data. For the training data, we use a placeholder that will be fed\n",
    "  # at run time with a training minibatch.\n",
    "  tf_train_dataset = tf.placeholder(tf.float32,\n",
    "                                    shape=(batch_size, image_size * image_size))\n",
    "  tf_train_labels = tf.placeholder(tf.float32, shape=(batch_size, num_labels))\n",
    "  tf_valid_dataset = tf.constant(valid_dataset)\n",
    "  tf_test_dataset = tf.constant(test_dataset)\n",
    "  \n",
    "  # Variables.\n",
    "  w1 = tf.Variable(\n",
    "    tf.truncated_normal([image_size * image_size, hidden_nodes]))\n",
    "  b1 = tf.Variable(tf.zeros([hidden_nodes]))\n",
    "  w2 = tf.Variable(\n",
    "    tf.truncated_normal([hidden_nodes, num_labels]))\n",
    "  b2 = tf.Variable(tf.zeros([num_labels]))  \n",
    "  \n",
    "  # Training computation.\n",
    "  y1 = tf.nn.relu(tf.matmul(tf_train_dataset, w1) + b1)\n",
    "  y2 = tf.matmul(y1, w2) + b2\n",
    "  # Added the regularization term for the weights.  \n",
    "  loss = (tf.reduce_mean(\n",
    "    tf.nn.softmax_cross_entropy_with_logits(y2, tf_train_labels)) + \n",
    "    beta * tf.nn.l2_loss(w1) + beta * tf.nn.l2_loss(w2))\n",
    "  \n",
    "  # Optimizer.\n",
    "  optimizer = tf.train.GradientDescentOptimizer(0.5).minimize(loss)\n",
    "  \n",
    "  # Predictions for the training, validation, and test data.\n",
    "  train_prediction = tf.nn.softmax(y2)\n",
    "  \n",
    "  valid_relu = tf.nn.relu(tf.matmul(tf_valid_dataset, w1) + b1)\n",
    "  valid_prediction = tf.nn.softmax(tf.matmul(valid_relu, w2) + b2)\n",
    "\n",
    "  test_relu = tf.nn.relu(tf.matmul(tf_test_dataset, w1) + b1)\n",
    "  test_prediction = tf.nn.softmax(tf.matmul(test_relu, w2) + b2)"
   ]
  },
  {
   "cell_type": "code",
   "execution_count": 23,
   "metadata": {
    "collapsed": false
   },
   "outputs": [
    {
     "name": "stdout",
     "output_type": "stream",
     "text": [
      "Initialized\n",
      "Minibatch loss at step 0: 636.786377\n",
      "Minibatch accuracy: 14.8%\n",
      "Validation accuracy: 42.6%\n",
      "Minibatch loss at step 500: 197.142639\n",
      "Minibatch accuracy: 76.6%\n",
      "Validation accuracy: 81.3%\n",
      "Minibatch loss at step 1000: 115.608902\n",
      "Minibatch accuracy: 79.7%\n",
      "Validation accuracy: 81.5%\n",
      "Minibatch loss at step 1500: 69.109291\n",
      "Minibatch accuracy: 85.2%\n",
      "Validation accuracy: 83.3%\n",
      "Minibatch loss at step 2000: 41.601360\n",
      "Minibatch accuracy: 81.2%\n",
      "Validation accuracy: 84.9%\n",
      "Minibatch loss at step 2500: 25.130619\n",
      "Minibatch accuracy: 88.3%\n",
      "Validation accuracy: 86.3%\n",
      "Minibatch loss at step 3000: 15.480554\n",
      "Minibatch accuracy: 87.5%\n",
      "Validation accuracy: 87.1%\n",
      "Test accuracy: 92.9%\n"
     ]
    }
   ],
   "source": [
    "# Execution of the neural model with regularization.\n",
    "\n",
    "num_steps = 3001\n",
    "\n",
    "with tf.Session(graph=graph) as session:\n",
    "  tf.initialize_all_variables().run()\n",
    "  print(\"Initialized\")\n",
    "  for step in range(num_steps):\n",
    "    # Pick an offset within the training data, which has been randomized.\n",
    "    # Note: we could use better randomization across epochs.\n",
    "    offset = (step * batch_size) % (train_labels.shape[0] - batch_size)\n",
    "    # Generate a minibatch.\n",
    "    batch_data = train_dataset[offset:(offset + batch_size), :]\n",
    "    batch_labels = train_labels[offset:(offset + batch_size), :]\n",
    "    # Prepare a dictionary telling the session where to feed the minibatch.\n",
    "    # The key of the dictionary is the placeholder node of the graph to be fed,\n",
    "    # and the value is the numpy array to feed to it.\n",
    "    feed_dict = {tf_train_dataset : batch_data, tf_train_labels : batch_labels}\n",
    "    _, l, predictions = session.run(\n",
    "      [optimizer, loss, train_prediction], feed_dict=feed_dict)\n",
    "    if (step % 500 == 0):\n",
    "      print(\"Minibatch loss at step %d: %f\" % (step, l))\n",
    "      print(\"Minibatch accuracy: %.1f%%\" % accuracy(predictions, batch_labels))\n",
    "      print(\"Validation accuracy: %.1f%%\" % accuracy(\n",
    "        valid_prediction.eval(), valid_labels))\n",
    "  print(\"Test accuracy: %.1f%%\" % accuracy(test_prediction.eval(), test_labels))"
   ]
  },
  {
   "cell_type": "markdown",
   "metadata": {
    "colab_type": "text",
    "id": "na8xX2yHZzNF"
   },
   "source": [
    "---\n",
    "Problem 2\n",
    "---------\n",
    "Let's demonstrate an extreme case of overfitting. Restrict your training data to just a few batches. What happens?\n",
    "\n",
    "---"
   ]
  },
  {
   "cell_type": "code",
   "execution_count": 19,
   "metadata": {
    "collapsed": true
   },
   "outputs": [],
   "source": [
    "# Logistic model without regularization.\n",
    "\n",
    "batch_size = 128\n",
    "\n",
    "graph = tf.Graph()\n",
    "with graph.as_default():\n",
    "\n",
    "  # Input data. For the training data, we use a placeholder that will be fed\n",
    "  # at run time with a training minibatch.\n",
    "  tf_train_dataset = tf.placeholder(tf.float32,\n",
    "                                    shape=(batch_size, image_size * image_size))\n",
    "  tf_train_labels = tf.placeholder(tf.float32, shape=(batch_size, num_labels))\n",
    "  tf_valid_dataset = tf.constant(valid_dataset)\n",
    "  tf_test_dataset = tf.constant(test_dataset)\n",
    "  \n",
    "  # Variables.\n",
    "  weights = tf.Variable(\n",
    "    tf.truncated_normal([image_size * image_size, num_labels]))\n",
    "  biases = tf.Variable(tf.zeros([num_labels]))\n",
    "  \n",
    "  logits = tf.matmul(tf_train_dataset, weights) + biases \n",
    "  # Added the regularization term for the weights.\n",
    "  loss = tf.reduce_mean(\n",
    "    tf.nn.softmax_cross_entropy_with_logits(logits, tf_train_labels))\n",
    "  \n",
    "  # Optimizer.\n",
    "  optimizer = tf.train.GradientDescentOptimizer(0.5).minimize(loss)\n",
    "  \n",
    "  # Predictions for the training, validation, and test data.\n",
    "  train_prediction = tf.nn.softmax(logits)\n",
    "  valid_prediction = tf.nn.softmax(\n",
    "    tf.matmul(tf_valid_dataset, weights) + biases)\n",
    "  test_prediction = tf.nn.softmax(tf.matmul(tf_test_dataset, weights) + biases)"
   ]
  },
  {
   "cell_type": "code",
   "execution_count": 21,
   "metadata": {
    "collapsed": false
   },
   "outputs": [
    {
     "name": "stdout",
     "output_type": "stream",
     "text": [
      "Initialized\n",
      "Minibatch loss at step 0: 17.556980\n",
      "Minibatch accuracy: 10.9%\n",
      "Validation accuracy: 10.8%\n",
      "Minibatch loss at step 40: 3.102640\n",
      "Minibatch accuracy: 67.2%\n",
      "Validation accuracy: 63.7%\n",
      "Minibatch loss at step 80: 2.703805\n",
      "Minibatch accuracy: 66.4%\n",
      "Validation accuracy: 68.8%\n",
      "Minibatch loss at step 120: 2.277700\n",
      "Minibatch accuracy: 74.2%\n",
      "Validation accuracy: 71.6%\n",
      "Minibatch loss at step 160: 1.570922\n",
      "Minibatch accuracy: 74.2%\n",
      "Validation accuracy: 73.6%\n",
      "Minibatch loss at step 200: 1.883787\n",
      "Minibatch accuracy: 71.9%\n",
      "Validation accuracy: 74.3%\n",
      "Test accuracy: 81.7%\n"
     ]
    }
   ],
   "source": [
    "# Executing the logistic model without regularization on a small dataset\n",
    "num_steps = 201\n",
    "\n",
    "with tf.Session(graph=graph) as session:\n",
    "  tf.initialize_all_variables().run()\n",
    "  print(\"Initialized\")\n",
    "  for step in range(num_steps):\n",
    "    # Pick an offset within the training data, which has been randomized.\n",
    "    # Note: we could use better randomization across epochs.\n",
    "    offset = (step * batch_size) % (train_labels.shape[0] - batch_size)\n",
    "    # Generate a minibatch.\n",
    "    batch_data = train_dataset[offset:(offset + batch_size), :]\n",
    "    batch_labels = train_labels[offset:(offset + batch_size), :]\n",
    "    # Prepare a dictionary telling the session where to feed the minibatch.\n",
    "    # The key of the dictionary is the placeholder node of the graph to be fed,\n",
    "    # and the value is the numpy array to feed to it.\n",
    "    feed_dict = {tf_train_dataset : batch_data, tf_train_labels : batch_labels}\n",
    "    _, l, predictions = session.run(\n",
    "      [optimizer, loss, train_prediction], feed_dict=feed_dict)\n",
    "    if (step % 40 == 0):\n",
    "      print(\"Minibatch loss at step %d: %f\" % (step, l))\n",
    "      print(\"Minibatch accuracy: %.1f%%\" % accuracy(predictions, batch_labels))\n",
    "      print(\"Validation accuracy: %.1f%%\" % accuracy(\n",
    "        valid_prediction.eval(), valid_labels))\n",
    "  print(\"Test accuracy: %.1f%%\" % accuracy(test_prediction.eval(), test_labels))"
   ]
  },
  {
   "cell_type": "code",
   "execution_count": 5,
   "metadata": {
    "collapsed": false
   },
   "outputs": [],
   "source": [
    "# Neural model without regularization.\n",
    "batch_size = 128\n",
    "hidden_nodes = 1024\n",
    "\n",
    "# neural network with 2 layers\n",
    "#\n",
    "# · · · ·          (input data, flattened pixels)       X [batch, 784]   # 784 = 28*28\n",
    "# \\x\\x/         -- fully connected layer (relu)         W1 [784, 1024]      B1[1024]\n",
    "#  \\x/          -- fully connected layer (softmax)      W2 [1024, 10]       B2[10]\n",
    "#   ·                                                   Y2 [batch, 10]\n",
    "\n",
    "graph = tf.Graph()\n",
    "with graph.as_default():\n",
    "\n",
    "  # Input data. For the training data, we use a placeholder that will be fed\n",
    "  # at run time with a training minibatch.\n",
    "  tf_train_dataset = tf.placeholder(tf.float32,\n",
    "                                    shape=(batch_size, image_size * image_size))\n",
    "  tf_train_labels = tf.placeholder(tf.float32, shape=(batch_size, num_labels))\n",
    "  tf_valid_dataset = tf.constant(valid_dataset)\n",
    "  tf_test_dataset = tf.constant(test_dataset)\n",
    "  \n",
    "  # Variables.\n",
    "  w1 = tf.Variable(\n",
    "    tf.truncated_normal([image_size * image_size, hidden_nodes]))\n",
    "  b1 = tf.Variable(tf.zeros([hidden_nodes]))\n",
    "  w2 = tf.Variable(\n",
    "    tf.truncated_normal([hidden_nodes, num_labels]))\n",
    "  b2 = tf.Variable(tf.zeros([num_labels]))  \n",
    "  \n",
    "  # Training computation.\n",
    "  y1 = tf.nn.relu(tf.matmul(tf_train_dataset, w1) + b1)\n",
    "  y2 = tf.matmul(y1, w2) + b2\n",
    "  # Added the regularization term for the weights.  \n",
    "  loss = tf.reduce_mean(tf.nn.softmax_cross_entropy_with_logits(y2, tf_train_labels))\n",
    "  \n",
    "  # Optimizer.\n",
    "  optimizer = tf.train.GradientDescentOptimizer(0.5).minimize(loss)\n",
    "  \n",
    "  # Predictions for the training, validation, and test data.\n",
    "  train_prediction = tf.nn.softmax(y2)\n",
    "  \n",
    "  valid_relu = tf.nn.relu(tf.matmul(tf_valid_dataset, w1) + b1)\n",
    "  valid_prediction = tf.nn.softmax(tf.matmul(valid_relu, w2) + b2)\n",
    "\n",
    "  test_relu = tf.nn.relu(tf.matmul(tf_test_dataset, w1) + b1)\n",
    "  test_prediction = tf.nn.softmax(tf.matmul(test_relu, w2) + b2)"
   ]
  },
  {
   "cell_type": "code",
   "execution_count": 6,
   "metadata": {
    "collapsed": false
   },
   "outputs": [
    {
     "name": "stdout",
     "output_type": "stream",
     "text": [
      "Initialized\n",
      "Minibatch loss at step 0: 299.057983\n",
      "Minibatch accuracy: 10.2%\n",
      "Validation accuracy: 38.3%\n",
      "Minibatch loss at step 50: 71.261719\n",
      "Minibatch accuracy: 74.2%\n",
      "Validation accuracy: 75.1%\n",
      "Minibatch loss at step 100: 27.940668\n",
      "Minibatch accuracy: 75.8%\n",
      "Validation accuracy: 77.4%\n",
      "Minibatch loss at step 150: 25.434998\n",
      "Minibatch accuracy: 82.8%\n",
      "Validation accuracy: 79.0%\n",
      "Minibatch loss at step 200: 21.262062\n",
      "Minibatch accuracy: 75.0%\n",
      "Validation accuracy: 77.1%\n",
      "Minibatch loss at step 250: 19.623032\n",
      "Minibatch accuracy: 75.0%\n",
      "Validation accuracy: 75.4%\n",
      "Minibatch loss at step 300: 21.143545\n",
      "Minibatch accuracy: 81.2%\n",
      "Validation accuracy: 79.4%\n",
      "Minibatch loss at step 350: 17.085894\n",
      "Minibatch accuracy: 81.2%\n",
      "Validation accuracy: 80.3%\n",
      "Minibatch loss at step 400: 19.330210\n",
      "Minibatch accuracy: 82.8%\n",
      "Validation accuracy: 80.4%\n",
      "Test accuracy: 87.0%\n"
     ]
    }
   ],
   "source": [
    "# Execution of the neural model without regularization on a small dataset\n",
    "\n",
    "num_steps = 401\n",
    "\n",
    "with tf.Session(graph=graph) as session:\n",
    "  tf.initialize_all_variables().run()\n",
    "  print(\"Initialized\")\n",
    "  for step in range(num_steps):\n",
    "    # Pick an offset within the training data, which has been randomized.\n",
    "    # Note: we could use better randomization across epochs.\n",
    "    offset = (step * batch_size) % (train_labels.shape[0] - batch_size)\n",
    "    # Generate a minibatch.\n",
    "    batch_data = train_dataset[offset:(offset + batch_size), :]\n",
    "    batch_labels = train_labels[offset:(offset + batch_size), :]\n",
    "    # Prepare a dictionary telling the session where to feed the minibatch.\n",
    "    # The key of the dictionary is the placeholder node of the graph to be fed,\n",
    "    # and the value is the numpy array to feed to it.\n",
    "    feed_dict = {tf_train_dataset : batch_data, tf_train_labels : batch_labels}\n",
    "    _, l, predictions = session.run(\n",
    "      [optimizer, loss, train_prediction], feed_dict=feed_dict)\n",
    "    if (step % 50 == 0):\n",
    "      print(\"Minibatch loss at step %d: %f\" % (step, l))\n",
    "      print(\"Minibatch accuracy: %.1f%%\" % accuracy(predictions, batch_labels))\n",
    "      print(\"Validation accuracy: %.1f%%\" % accuracy(\n",
    "        valid_prediction.eval(), valid_labels))\n",
    "  print(\"Test accuracy: %.1f%%\" % accuracy(test_prediction.eval(), test_labels))"
   ]
  },
  {
   "cell_type": "markdown",
   "metadata": {
    "colab_type": "text",
    "id": "ww3SCBUdlkRc"
   },
   "source": [
    "---\n",
    "Problem 3\n",
    "---------\n",
    "Introduce Dropout on the hidden layer of the neural network. Remember: Dropout should only be introduced during training, not evaluation, otherwise your evaluation results would be stochastic as well. TensorFlow provides `nn.dropout()` for that, but you have to make sure it's only inserted during training.\n",
    "\n",
    "What happens to our extreme overfitting case?\n",
    "\n",
    "---"
   ]
  },
  {
   "cell_type": "code",
   "execution_count": 5,
   "metadata": {
    "collapsed": true
   },
   "outputs": [],
   "source": [
    "# Neural model with regularization and dropout.\n",
    "batch_size = 128\n",
    "hidden_nodes = 1024\n",
    "beta = 0.001\n",
    "\n",
    "# neural network with 2 layers\n",
    "#\n",
    "# · · · ·          (input data, flattened pixels)             X [batch, 784]   # 784 = 28*28\n",
    "# \\x\\x/         -- fully connected layer (relu + dropout)    W1 [784, 1024]      B1[1024]\n",
    "#  \\x/          -- fully connected layer (softmax)           W2 [1024, 10]       B2[10]\n",
    "#   ·                                                        Y2 [batch, 10]\n",
    "\n",
    "graph = tf.Graph()\n",
    "with graph.as_default():\n",
    "\n",
    "  # Input data. For the training data, we use a placeholder that will be fed\n",
    "  # at run time with a training minibatch.\n",
    "  tf_train_dataset = tf.placeholder(tf.float32,\n",
    "                                    shape=(batch_size, image_size * image_size))\n",
    "  tf_train_labels = tf.placeholder(tf.float32, shape=(batch_size, num_labels))\n",
    "  tf_valid_dataset = tf.constant(valid_dataset)\n",
    "  tf_test_dataset = tf.constant(test_dataset)\n",
    "  # Use a value in [0,1) during training, and then set it to 1 during test.\n",
    "  dropout_probability = tf.placeholder(tf.float32)  \n",
    "\n",
    "  # Variables.\n",
    "  w1 = tf.Variable(\n",
    "    tf.truncated_normal([image_size * image_size, hidden_nodes]))\n",
    "  b1 = tf.Variable(tf.zeros([hidden_nodes]))\n",
    "  w2 = tf.Variable(\n",
    "    tf.truncated_normal([hidden_nodes, num_labels]))\n",
    "  b2 = tf.Variable(tf.zeros([num_labels]))  \n",
    "  \n",
    "  # Training computation.\n",
    "  y1 = tf.nn.relu(tf.matmul(tf_train_dataset, w1) + b1)\n",
    "  y1_dropout = tf.nn.dropout(y1, dropout_probability)\n",
    "  y2 = tf.matmul(y1_dropout, w2) + b2\n",
    "  # Added the regularization term for the weights.  \n",
    "  loss = (tf.reduce_mean(\n",
    "    tf.nn.softmax_cross_entropy_with_logits(y2, tf_train_labels)) + \n",
    "    beta * tf.nn.l2_loss(w1) + beta * tf.nn.l2_loss(w2))\n",
    "  \n",
    "  # Optimizer.\n",
    "  optimizer = tf.train.GradientDescentOptimizer(0.5).minimize(loss)\n",
    "  \n",
    "  # Predictions for the training, validation, and test data.\n",
    "  train_prediction = tf.nn.softmax(y2)\n",
    "  \n",
    "  valid_relu = tf.nn.relu(tf.matmul(tf_valid_dataset, w1) + b1)\n",
    "  valid_prediction = tf.nn.softmax(tf.matmul(valid_relu, w2) + b2)\n",
    "\n",
    "  test_relu = tf.nn.relu(tf.matmul(tf_test_dataset, w1) + b1)\n",
    "  test_prediction = tf.nn.softmax(tf.matmul(test_relu, w2) + b2)"
   ]
  },
  {
   "cell_type": "code",
   "execution_count": 6,
   "metadata": {
    "collapsed": false
   },
   "outputs": [
    {
     "name": "stdout",
     "output_type": "stream",
     "text": [
      "Initialized\n",
      "Minibatch loss at step 0: 682.563599\n",
      "Minibatch accuracy: 11.7%\n",
      "Validation accuracy: 27.8%\n",
      "Minibatch loss at step 500: 198.771729\n",
      "Minibatch accuracy: 75.0%\n",
      "Validation accuracy: 81.0%\n",
      "Minibatch loss at step 1000: 115.099472\n",
      "Minibatch accuracy: 83.6%\n",
      "Validation accuracy: 81.6%\n",
      "Minibatch loss at step 1500: 69.171547\n",
      "Minibatch accuracy: 80.5%\n",
      "Validation accuracy: 82.5%\n",
      "Minibatch loss at step 2000: 41.866573\n",
      "Minibatch accuracy: 80.5%\n",
      "Validation accuracy: 84.2%\n",
      "Minibatch loss at step 2500: 25.093662\n",
      "Minibatch accuracy: 88.3%\n",
      "Validation accuracy: 85.2%\n",
      "Minibatch loss at step 3000: 15.533442\n",
      "Minibatch accuracy: 84.4%\n",
      "Validation accuracy: 86.6%\n",
      "Test accuracy: 92.7%\n"
     ]
    }
   ],
   "source": [
    "# Execution of the neural model with regularization and dropout.\n",
    "\n",
    "num_steps = 3001\n",
    "\n",
    "with tf.Session(graph=graph) as session:\n",
    "  tf.initialize_all_variables().run()\n",
    "  print(\"Initialized\")\n",
    "  for step in range(num_steps):\n",
    "    # Pick an offset within the training data, which has been randomized.\n",
    "    # Note: we could use better randomization across epochs.\n",
    "    offset = (step * batch_size) % (train_labels.shape[0] - batch_size)\n",
    "    # Generate a minibatch.\n",
    "    batch_data = train_dataset[offset:(offset + batch_size), :]\n",
    "    batch_labels = train_labels[offset:(offset + batch_size), :]\n",
    "    # Training phase\n",
    "    feed_dict = {tf_train_dataset : batch_data, tf_train_labels : batch_labels, dropout_probability: 0.75}\n",
    "    _, l, predictions = session.run(\n",
    "      [optimizer, loss, train_prediction], feed_dict=feed_dict)\n",
    "    if (step % 500 == 0):\n",
    "      print(\"Minibatch loss at step %d: %f\" % (step, l))\n",
    "      print(\"Minibatch accuracy: %.1f%%\" % accuracy(predictions, batch_labels))\n",
    "      print(\"Validation accuracy: %.1f%%\" % accuracy(\n",
    "        valid_prediction.eval(), valid_labels))\n",
    "    \n",
    "  print(\"Test accuracy: %.1f%%\" % accuracy(test_prediction.eval(), test_labels))"
   ]
  },
  {
   "cell_type": "markdown",
   "metadata": {
    "colab_type": "text",
    "id": "-b1hTz3VWZjw"
   },
   "source": [
    "---\n",
    "Problem 4\n",
    "---------\n",
    "\n",
    "Try to get the best performance you can using a multi-layer model! The best reported test accuracy using a deep network is [97.1%](http://yaroslavvb.blogspot.com/2011/09/notmnist-dataset.html?showComment=1391023266211#c8758720086795711595).\n",
    "\n",
    "One avenue you can explore is to add multiple layers.\n",
    "\n",
    "Another one is to use learning rate decay:\n",
    "\n",
    "    global_step = tf.Variable(0)  # count the number of steps taken.\n",
    "    learning_rate = tf.train.exponential_decay(0.5, global_step, ...)\n",
    "    optimizer = tf.train.GradientDescentOptimizer(learning_rate).minimize(loss, global_step=global_step)\n",
    " \n",
    " ---\n"
   ]
  },
  {
   "cell_type": "code",
   "execution_count": 30,
   "metadata": {
    "collapsed": false
   },
   "outputs": [],
   "source": [
    "# Neural model with regularization and learning decay.\n",
    "batch_size = 128\n",
    "hidden_nodes = 1024\n",
    "beta = 0.001\n",
    "\n",
    "# neural network with 2 layers\n",
    "#\n",
    "# · · · ·          (input data, flattened pixels)       X [batch, 784]   # 784 = 28*28\n",
    "# \\x\\x/         -- fully connected layer (relu)         W1 [784, 1024]      B1[1024]\n",
    "#  \\x/          -- fully connected layer (softmax)      W2 [1024, 10]       B2[10]\n",
    "#   ·                                                   Y2 [batch, 10]\n",
    "\n",
    "graph = tf.Graph()\n",
    "with graph.as_default():\n",
    "\n",
    "  # Input data. For the training data, we use a placeholder that will be fed\n",
    "  # at run time with a training minibatch.\n",
    "  tf_train_dataset = tf.placeholder(tf.float32,\n",
    "                                    shape=(batch_size, image_size * image_size))\n",
    "  tf_train_labels = tf.placeholder(tf.float32, shape=(batch_size, num_labels))\n",
    "  tf_valid_dataset = tf.constant(valid_dataset)\n",
    "  tf_test_dataset = tf.constant(test_dataset)\n",
    "  \n",
    "  # Variables.\n",
    "  w1 = tf.Variable(\n",
    "    tf.truncated_normal([image_size * image_size, hidden_nodes]))\n",
    "  w2 = tf.Variable(\n",
    "    tf.truncated_normal([image_size * image_size, hidden_nodes]))\n",
    "  b1 = tf.Variable(tf.zeros([hidden_nodes]))\n",
    "  w3 = tf.Variable(\n",
    "    tf.truncated_normal([hidden_nodes, num_labels]))\n",
    "  b3 = tf.Variable(tf.zeros([num_labels]))  \n",
    "  \n",
    "  # Training computation.\n",
    "  y1 = tf.nn.relu(tf.matmul(tf_train_dataset, w1) + b1)\n",
    "  y2 = tf.matmul(y1, w2) + b2\n",
    "  # Added the regularization term for the weights.  \n",
    "  loss = (tf.reduce_mean(\n",
    "    tf.nn.softmax_cross_entropy_with_logits(y2, tf_train_labels)) + \n",
    "    beta * tf.nn.l2_loss(w1) + beta * tf.nn.l2_loss(w2))\n",
    "    \n",
    "  global_step = tf.Variable(0)  # count the number of steps taken.\n",
    "  decay_steps = 1000\n",
    "  decay_rate = 0.965\n",
    "  learning_rate = tf.train.exponential_decay(0.5, global_step, decay_steps, decay_rate, staircase=True)  \n",
    "  \n",
    "  # Optimizer.\n",
    "  optimizer = tf.train.GradientDescentOptimizer(learning_rate).minimize(loss, global_step=global_step)\n",
    "  \n",
    "  # Predictions for the training, validation, and test data.\n",
    "  train_prediction = tf.nn.softmax(y2)\n",
    "  \n",
    "  valid_relu = tf.nn.relu(tf.matmul(tf_valid_dataset, w1) + b1)\n",
    "  valid_prediction = tf.nn.softmax(tf.matmul(valid_relu, w2) + b2)\n",
    "\n",
    "  test_relu = tf.nn.relu(tf.matmul(tf_test_dataset, w1) + b1)\n",
    "  test_prediction = tf.nn.softmax(tf.matmul(test_relu, w2) + b2)"
   ]
  },
  {
   "cell_type": "code",
   "execution_count": 31,
   "metadata": {
    "collapsed": false
   },
   "outputs": [
    {
     "name": "stdout",
     "output_type": "stream",
     "text": [
      "Initialized\n",
      "Minibatch loss at step 0: 655.122620\n",
      "Minibatch accuracy: 15.6%\n",
      "Validation accuracy: 25.5%\n",
      "Minibatch loss at step 500: 198.678680\n",
      "Minibatch accuracy: 80.5%\n",
      "Validation accuracy: 80.3%\n",
      "Minibatch loss at step 1000: 114.241592\n",
      "Minibatch accuracy: 85.9%\n",
      "Validation accuracy: 82.1%\n",
      "Minibatch loss at step 1500: 70.109589\n",
      "Minibatch accuracy: 83.6%\n",
      "Validation accuracy: 83.3%\n",
      "Minibatch loss at step 2000: 43.118626\n",
      "Minibatch accuracy: 83.6%\n",
      "Validation accuracy: 84.8%\n",
      "Minibatch loss at step 2500: 26.834007\n",
      "Minibatch accuracy: 89.1%\n",
      "Validation accuracy: 85.8%\n",
      "Minibatch loss at step 3000: 17.132669\n",
      "Minibatch accuracy: 83.6%\n",
      "Validation accuracy: 87.1%\n",
      "Test accuracy: 93.0%\n"
     ]
    }
   ],
   "source": [
    "# Execution of the neural model with regularization and learning decay.\n",
    "\n",
    "num_steps = 3001\n",
    "\n",
    "with tf.Session(graph=graph) as session:\n",
    "  tf.initialize_all_variables().run()\n",
    "  print(\"Initialized\")\n",
    "  for step in range(num_steps):\n",
    "    # Pick an offset within the training data, which has been randomized.\n",
    "    # Note: we could use better randomization across epochs.\n",
    "    offset = (step * batch_size) % (train_labels.shape[0] - batch_size)\n",
    "    # Generate a minibatch.\n",
    "    batch_data = train_dataset[offset:(offset + batch_size), :]\n",
    "    batch_labels = train_labels[offset:(offset + batch_size), :]\n",
    "    # Training phase\n",
    "    feed_dict = {tf_train_dataset : batch_data, tf_train_labels : batch_labels}\n",
    "    _, l, predictions = session.run(\n",
    "      [optimizer, loss, train_prediction], feed_dict=feed_dict)\n",
    "    if (step % 500 == 0):\n",
    "      print(\"Minibatch loss at step %d: %f\" % (step, l))\n",
    "      print(\"Minibatch accuracy: %.1f%%\" % accuracy(predictions, batch_labels))\n",
    "      print(\"Validation accuracy: %.1f%%\" % accuracy(\n",
    "        valid_prediction.eval(), valid_labels))\n",
    "    \n",
    "  print(\"Test accuracy: %.1f%%\" % accuracy(test_prediction.eval(), test_labels))"
   ]
  },
  {
   "cell_type": "code",
   "execution_count": 13,
   "metadata": {
    "collapsed": true
   },
   "outputs": [],
   "source": [
    "# Neural model with learning decay.\n",
    "batch_size = 128\n",
    "hidden_nodes1 = 512\n",
    "hidden_nodes2 = 256\n",
    "hidden_nodes3 = 128\n",
    "beta = 0.001\n",
    "\n",
    "# neural network with 4 layers\n",
    "#\n",
    "# · · · ·          (input data, flattened pixels)       X [batch, 784]   # 784 = 28*28\n",
    "# \\x\\x/         -- fully connected layer (relu)         W1 [784, 512]      B1[512]\n",
    "# \\x\\x/         -- fully connected layer (relu)         W2 [512, 256]      B1[256]\n",
    "# \\x\\x/         -- fully connected layer (relu)         W3 [256, 128]      B2[128]\n",
    "#  \\x/          -- fully connected layer (softmax)      W4 [128, 10]       B3[10]\n",
    "#   ·                                                   Y4 [batch, 10]\n",
    "\n",
    "graph = tf.Graph()\n",
    "with graph.as_default():\n",
    "\n",
    "  # Input data. For the training data, we use a placeholder that will be fed\n",
    "  # at run time with a training minibatch.\n",
    "  tf_train_dataset = tf.placeholder(tf.float32,\n",
    "                                    shape=(batch_size, image_size * image_size))\n",
    "  tf_train_labels = tf.placeholder(tf.float32, shape=(batch_size, num_labels))\n",
    "  tf_valid_dataset = tf.constant(valid_dataset)\n",
    "  tf_test_dataset = tf.constant(test_dataset)\n",
    "  \n",
    "  # Variables.\n",
    "  w1 = tf.Variable(\n",
    "    tf.truncated_normal([image_size * image_size, hidden_nodes1], stddev=0.1))\n",
    "  w2 = tf.Variable(\n",
    "    tf.truncated_normal([hidden_nodes1, hidden_nodes2], stddev=0.1))\n",
    "  w3 = tf.Variable(\n",
    "    tf.truncated_normal([hidden_nodes2, hidden_nodes3], stddev=0.1))\n",
    "  w4 = tf.Variable(\n",
    "    tf.truncated_normal([hidden_nodes3, num_labels], stddev=0.1))\n",
    "\n",
    "  b1 = tf.Variable(tf.zeros([hidden_nodes1]))\n",
    "  b2 = tf.Variable(tf.zeros([hidden_nodes2]))\n",
    "  b3 = tf.Variable(tf.zeros([hidden_nodes3]))\n",
    "  b4 = tf.Variable(tf.zeros([num_labels]))  \n",
    "  \n",
    "  # Training computation.\n",
    "  y1 = tf.nn.relu(tf.matmul(tf_train_dataset, w1) + b1)\n",
    "  y2 = tf.nn.relu(tf.matmul(y1, w2) + b2)\n",
    "  y3 = tf.nn.relu(tf.matmul(y2, w3) + b3)\n",
    "  y4 = tf.matmul(y3, w4) + b4\n",
    "  # Added the regularization term for the weights.  \n",
    "  loss = (tf.reduce_mean(\n",
    "    tf.nn.softmax_cross_entropy_with_logits(y4, tf_train_labels)))\n",
    "    \n",
    "  global_step = tf.Variable(0)  # count the number of steps taken.\n",
    "  decay_steps = 1000\n",
    "  decay_rate = 0.965\n",
    "  learning_rate = tf.train.exponential_decay(0.5, global_step, decay_steps, decay_rate, staircase=True)  \n",
    "  \n",
    "  # Optimizer.\n",
    "  optimizer = tf.train.GradientDescentOptimizer(learning_rate).minimize(loss, global_step=global_step)\n",
    "  \n",
    "  # Predictions for the training, validation, and test data.\n",
    "  train_prediction = tf.nn.softmax(y4)\n",
    "  \n",
    "  valid_relu1 = tf.nn.relu(tf.matmul(tf_valid_dataset, w1) + b1)\n",
    "  valid_relu2 = tf.nn.relu(tf.matmul(valid_relu1, w2) + b2)\n",
    "  valid_relu3 = tf.nn.relu(tf.matmul(valid_relu2, w3) + b3)\n",
    "  valid_prediction = tf.nn.softmax(tf.matmul(valid_relu3, w4) + b4)\n",
    "\n",
    "  test_relu1 = tf.nn.relu(tf.matmul(tf_test_dataset, w1) + b1)\n",
    "  test_relu2 = tf.nn.relu(tf.matmul(test_relu1, w2) + b2)\n",
    "  test_relu3 = tf.nn.relu(tf.matmul(test_relu2, w3) + b3)\n",
    "  test_prediction = tf.nn.softmax(tf.matmul(test_relu3, w4) + b4)"
   ]
  },
  {
   "cell_type": "code",
   "execution_count": 14,
   "metadata": {
    "collapsed": false
   },
   "outputs": [
    {
     "name": "stdout",
     "output_type": "stream",
     "text": [
      "Initialized\n",
      "Minibatch loss at step 0: 2.663332\n",
      "Minibatch accuracy: 5.5%\n",
      "Validation accuracy: 19.5%\n",
      "Minibatch loss at step 500: 0.398466\n",
      "Minibatch accuracy: 87.5%\n",
      "Validation accuracy: 85.8%\n",
      "Minibatch loss at step 1000: 0.327326\n",
      "Minibatch accuracy: 89.1%\n",
      "Validation accuracy: 86.9%\n",
      "Minibatch loss at step 1500: 0.409235\n",
      "Minibatch accuracy: 84.4%\n",
      "Validation accuracy: 87.4%\n",
      "Minibatch loss at step 2000: 0.471904\n",
      "Minibatch accuracy: 86.7%\n",
      "Validation accuracy: 88.4%\n",
      "Minibatch loss at step 2500: 0.214805\n",
      "Minibatch accuracy: 93.0%\n",
      "Validation accuracy: 88.3%\n",
      "Minibatch loss at step 3000: 0.322605\n",
      "Minibatch accuracy: 89.8%\n",
      "Validation accuracy: 88.6%\n",
      "Test accuracy: 94.0%\n"
     ]
    }
   ],
   "source": [
    "# Execution of the neural model with regularization and learning decay.\n",
    "\n",
    "num_steps = 3001\n",
    "\n",
    "with tf.Session(graph=graph) as session:\n",
    "  tf.initialize_all_variables().run()\n",
    "  print(\"Initialized\")\n",
    "  for step in range(num_steps):\n",
    "    # Pick an offset within the training data, which has been randomized.\n",
    "    # Note: we could use better randomization across epochs.\n",
    "    offset = (step * batch_size) % (train_labels.shape[0] - batch_size)\n",
    "    # Generate a minibatch.\n",
    "    batch_data = train_dataset[offset:(offset + batch_size), :]\n",
    "    batch_labels = train_labels[offset:(offset + batch_size), :]\n",
    "    # Training phase\n",
    "    feed_dict = {tf_train_dataset : batch_data, tf_train_labels : batch_labels}\n",
    "    _, l, predictions = session.run(\n",
    "      [optimizer, loss, train_prediction], feed_dict=feed_dict)\n",
    "    if (step % 500 == 0):\n",
    "      print(\"Minibatch loss at step %d: %f\" % (step, l))\n",
    "      print(\"Minibatch accuracy: %.1f%%\" % accuracy(predictions, batch_labels))\n",
    "      print(\"Validation accuracy: %.1f%%\" % accuracy(\n",
    "        valid_prediction.eval(), valid_labels))\n",
    "    \n",
    "  print(\"Test accuracy: %.1f%%\" % accuracy(test_prediction.eval(), test_labels))"
   ]
  },
  {
   "cell_type": "code",
   "execution_count": null,
   "metadata": {
    "collapsed": true
   },
   "outputs": [],
   "source": []
  }
 ],
 "metadata": {
  "colab": {
   "default_view": {},
   "name": "3_regularization.ipynb",
   "provenance": [],
   "version": "0.3.2",
   "views": {}
  },
  "kernelspec": {
   "display_name": "Python 2",
   "language": "python",
   "name": "python2"
  },
  "language_info": {
   "codemirror_mode": {
    "name": "ipython",
    "version": 2
   },
   "file_extension": ".py",
   "mimetype": "text/x-python",
   "name": "python",
   "nbconvert_exporter": "python",
   "pygments_lexer": "ipython2",
   "version": "2.7.6"
  }
 },
 "nbformat": 4,
 "nbformat_minor": 0
}
